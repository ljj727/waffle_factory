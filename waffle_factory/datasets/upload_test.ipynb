{
 "cells": [
  {
   "cell_type": "code",
   "execution_count": 1,
   "metadata": {},
   "outputs": [
    {
     "name": "stderr",
     "output_type": "stream",
     "text": [
      "/home/ljj/anaconda3/envs/waffle_factory/lib/python3.10/site-packages/tqdm/auto.py:21: TqdmWarning: IProgress not found. Please update jupyter and ipywidgets. See https://ipywidgets.readthedocs.io/en/stable/user_install.html\n",
      "  from .autonotebook import tqdm as notebook_tqdm\n"
     ]
    }
   ],
   "source": [
    "from waffle_hub.dataset import Dataset as wd\n",
    "from clearml import Dataset as cd\n",
    "\n",
    "name=\"HelmetDataset_v1.0.0\"\n",
    "\n",
    "dataset = wd.load(name)\n",
    "\n",
    "try:\n",
    "    clearml_dataset= cd.get(\n",
    "        dataset_project='Public',\n",
    "        dataset_name='FireDataset'\n",
    "    )\n",
    "except:\n",
    "    clearml_dataset = cd.create(\n",
    "        dataset_project=\"Public\", dataset_name=\"FireDataset\"\n",
    "    )\n",
    "\n",
    "clearml_dataset.tags = [dataset.task] + dataset.name.split('_')\n",
    "clearml_dataset.version = dataset.name.split('_')[-1]\n",
    "\n",
    "\n"
   ]
  },
  {
   "cell_type": "code",
   "execution_count": 2,
   "metadata": {},
   "outputs": [
    {
     "name": "stdout",
     "output_type": "stream",
     "text": [
      "Generating SHA2 hash for 39164 files\n"
     ]
    },
    {
     "name": "stderr",
     "output_type": "stream",
     "text": [
      "100%|██████████| 39164/39164 [00:03<00:00, 11958.87it/s]\n"
     ]
    },
    {
     "name": "stdout",
     "output_type": "stream",
     "text": [
      "Hash generation completed\n",
      "2023-08-11 15:21:29,289 - clearml.Task - ERROR - Action failed <400/110: tasks.add_or_update_artifacts/v2.10 (Invalid task status: expected=created, status=completed)> (task=d6ba409bbfe648618b40cb35f26979a0, artifacts=[{'key': 'state', 'type': 'dict', 'uri': 'https://files.clear.ml/Public/.datasets/FireDataset/FireDataset.d6ba409bbfe648618b40cb35f26979a0/artifacts/state/state.json', 'content_size': 15540566, 'hash': 'c775782d7420465520ce37f1bbd93ea646b5ed52ce0211a7fcff43244e14982e', 'timestamp': 1691734888, 'type_data': {'preview': 'Dataset state\\nFiles added/modified: 39164 - total size 309.92 MB\\nCurrent dependency graph: {\\n  \"d6ba409bbfe648618b40cb35f26979a0\": []\\n}\\n', 'content_type': 'application/json'}, 'display_data': [('files removed', '0'), ('files added', '39163'), ('files modified', '1')]}], force=True)\n"
     ]
    },
    {
     "data": {
      "text/plain": [
       "39163"
      ]
     },
     "execution_count": 2,
     "metadata": {},
     "output_type": "execute_result"
    }
   ],
   "source": [
    "\n",
    "clearml_dataset.add_files(\n",
    "    path=dataset.dataset_dir\n",
    ")\n"
   ]
  },
  {
   "cell_type": "code",
   "execution_count": 14,
   "metadata": {},
   "outputs": [
    {
     "name": "stdout",
     "output_type": "stream",
     "text": [
      "2023-08-11 15:29:00,378 - clearml.storage - ERROR - Failed uploading: An error occurred (XMinioInvalidObjectName) when calling the PutObject operation: Object name contains unsupported characters.\n"
     ]
    },
    {
     "ename": "ValueError",
     "evalue": "Task object can only be updated if created or in_progress [status=completed fields=['output_dest']]",
     "output_type": "error",
     "traceback": [
      "\u001b[0;31m---------------------------------------------------------------------------\u001b[0m",
      "\u001b[0;31mValueError\u001b[0m                                Traceback (most recent call last)",
      "Cell \u001b[0;32mIn[14], line 1\u001b[0m\n\u001b[0;32m----> 1\u001b[0m clearml_dataset\u001b[39m.\u001b[39;49mupload(show_progress\u001b[39m=\u001b[39;49m\u001b[39mTrue\u001b[39;49;00m, verbose\u001b[39m=\u001b[39;49m\u001b[39mFalse\u001b[39;49;00m, output_url\u001b[39m=\u001b[39;49m\u001b[39m\"\u001b[39;49m\u001b[39ms3://192.168.0.51:9000/MLTeam/Dataset/clearml/\u001b[39;49m\u001b[39m\"\u001b[39;49m, compression\u001b[39m=\u001b[39;49m\u001b[39mNone\u001b[39;49;00m, chunk_size\u001b[39m=\u001b[39;49m\u001b[39mNone\u001b[39;49;00m, max_workers\u001b[39m=\u001b[39;49m\u001b[39mNone\u001b[39;49;00m, retries\u001b[39m=\u001b[39;49m\u001b[39m3\u001b[39;49m)\n",
      "File \u001b[0;32m~/anaconda3/envs/waffle_factory/lib/python3.10/site-packages/clearml/datasets/dataset.py:663\u001b[0m, in \u001b[0;36mDataset.upload\u001b[0;34m(self, show_progress, verbose, output_url, compression, chunk_size, max_workers, retries)\u001b[0m\n\u001b[1;32m    661\u001b[0m \u001b[39m# set output_url\u001b[39;00m\n\u001b[1;32m    662\u001b[0m \u001b[39mif\u001b[39;00m output_url:\n\u001b[0;32m--> 663\u001b[0m     \u001b[39mself\u001b[39;49m\u001b[39m.\u001b[39;49m_task\u001b[39m.\u001b[39;49moutput_uri \u001b[39m=\u001b[39m output_url\n\u001b[1;32m    664\u001b[0m     \u001b[39mself\u001b[39m\u001b[39m.\u001b[39m_task\u001b[39m.\u001b[39mget_logger()\u001b[39m.\u001b[39mset_default_upload_destination(output_url)\n\u001b[1;32m    666\u001b[0m \u001b[39mif\u001b[39;00m \u001b[39mnot\u001b[39;00m max_workers:\n",
      "File \u001b[0;32m~/anaconda3/envs/waffle_factory/lib/python3.10/site-packages/clearml/task.py:1122\u001b[0m, in \u001b[0;36mTask.output_uri\u001b[0;34m(self, value)\u001b[0m\n\u001b[1;32m   1119\u001b[0m         \u001b[39mraise\u001b[39;00m \u001b[39mValueError\u001b[39;00m(\u001b[39m\"\u001b[39m\u001b[39mCould not get access credentials for \u001b[39m\u001b[39m'\u001b[39m\u001b[39m{}\u001b[39;00m\u001b[39m'\u001b[39m\u001b[39m \u001b[39m\u001b[39m\"\u001b[39m\n\u001b[1;32m   1120\u001b[0m                          \u001b[39m\"\u001b[39m\u001b[39m, check configuration file ~/clearml.conf\u001b[39m\u001b[39m\"\u001b[39m\u001b[39m.\u001b[39mformat(value))\n\u001b[1;32m   1121\u001b[0m     helper\u001b[39m.\u001b[39mcheck_write_permissions(value)\n\u001b[0;32m-> 1122\u001b[0m \u001b[39mself\u001b[39;49m\u001b[39m.\u001b[39;49mstorage_uri \u001b[39m=\u001b[39m value\n",
      "File \u001b[0;32m~/anaconda3/envs/waffle_factory/lib/python3.10/site-packages/clearml/backend_interface/task/task.py:407\u001b[0m, in \u001b[0;36mTask.storage_uri\u001b[0;34m(self, value)\u001b[0m\n\u001b[1;32m    399\u001b[0m \u001b[39m@storage_uri\u001b[39m\u001b[39m.\u001b[39msetter\n\u001b[1;32m    400\u001b[0m \u001b[39mdef\u001b[39;00m \u001b[39mstorage_uri\u001b[39m(\u001b[39mself\u001b[39m, value):\n\u001b[1;32m    401\u001b[0m     \u001b[39m# type: (str) -> ()\u001b[39;00m\n\u001b[1;32m    402\u001b[0m \u001b[39m    \u001b[39m\u001b[39m\"\"\"\u001b[39;00m\n\u001b[1;32m    403\u001b[0m \u001b[39m    Set the storage / output url for this task. This is the default location for output models and other artifacts.\u001b[39;00m\n\u001b[1;32m    404\u001b[0m \n\u001b[1;32m    405\u001b[0m \u001b[39m    :param str value: The value to set for output URI.\u001b[39;00m\n\u001b[1;32m    406\u001b[0m \u001b[39m    \"\"\"\u001b[39;00m\n\u001b[0;32m--> 407\u001b[0m     \u001b[39mself\u001b[39;49m\u001b[39m.\u001b[39;49m_set_storage_uri(value)\n",
      "File \u001b[0;32m~/anaconda3/envs/waffle_factory/lib/python3.10/site-packages/clearml/backend_interface/task/task.py:382\u001b[0m, in \u001b[0;36mTask._set_storage_uri\u001b[0;34m(self, value)\u001b[0m\n\u001b[1;32m    380\u001b[0m \u001b[39mself\u001b[39m\u001b[39m.\u001b[39m_storage_uri \u001b[39m=\u001b[39m StorageHelper\u001b[39m.\u001b[39mconform_url(value)\n\u001b[1;32m    381\u001b[0m \u001b[39mself\u001b[39m\u001b[39m.\u001b[39mdata\u001b[39m.\u001b[39moutput\u001b[39m.\u001b[39mdestination \u001b[39m=\u001b[39m \u001b[39mself\u001b[39m\u001b[39m.\u001b[39m_storage_uri\n\u001b[0;32m--> 382\u001b[0m \u001b[39mself\u001b[39;49m\u001b[39m.\u001b[39;49m_edit(output_dest\u001b[39m=\u001b[39;49m\u001b[39mself\u001b[39;49m\u001b[39m.\u001b[39;49m_storage_uri \u001b[39mor\u001b[39;49;00m (\u001b[39m'\u001b[39;49m\u001b[39m'\u001b[39;49m \u001b[39mif\u001b[39;49;00m Session\u001b[39m.\u001b[39;49mcheck_min_api_version(\u001b[39m'\u001b[39;49m\u001b[39m2.3\u001b[39;49m\u001b[39m'\u001b[39;49m) \u001b[39melse\u001b[39;49;00m \u001b[39mNone\u001b[39;49;00m))\n",
      "File \u001b[0;32m~/anaconda3/envs/waffle_factory/lib/python3.10/site-packages/clearml/backend_interface/task/task.py:2572\u001b[0m, in \u001b[0;36mTask._edit\u001b[0;34m(self, **kwargs)\u001b[0m\n\u001b[1;32m   2570\u001b[0m         \u001b[39mpass\u001b[39;00m\n\u001b[1;32m   2571\u001b[0m     \u001b[39melse\u001b[39;00m:\n\u001b[0;32m-> 2572\u001b[0m         \u001b[39mraise\u001b[39;00m \u001b[39mValueError\u001b[39;00m(\n\u001b[1;32m   2573\u001b[0m             \u001b[39m\"\u001b[39m\u001b[39mTask object can only be updated if created or in_progress \u001b[39m\u001b[39m\"\u001b[39m\n\u001b[1;32m   2574\u001b[0m             \u001b[39m\"\u001b[39m\u001b[39m[status=\u001b[39m\u001b[39m{}\u001b[39;00m\u001b[39m fields=\u001b[39m\u001b[39m{}\u001b[39;00m\u001b[39m]\u001b[39m\u001b[39m\"\u001b[39m\u001b[39m.\u001b[39mformat(status, \u001b[39mlist\u001b[39m(kwargs\u001b[39m.\u001b[39mkeys()))\n\u001b[1;32m   2575\u001b[0m         )\n\u001b[1;32m   2577\u001b[0m res \u001b[39m=\u001b[39m \u001b[39mself\u001b[39m\u001b[39m.\u001b[39msend(tasks\u001b[39m.\u001b[39mEditRequest(task\u001b[39m=\u001b[39m\u001b[39mself\u001b[39m\u001b[39m.\u001b[39mid, force\u001b[39m=\u001b[39m\u001b[39mTrue\u001b[39;00m, \u001b[39m*\u001b[39m\u001b[39m*\u001b[39mkwargs), raise_on_errors\u001b[39m=\u001b[39m\u001b[39mFalse\u001b[39;00m)\n\u001b[1;32m   2578\u001b[0m \u001b[39mreturn\u001b[39;00m res\n",
      "\u001b[0;31mValueError\u001b[0m: Task object can only be updated if created or in_progress [status=completed fields=['output_dest']]"
     ]
    }
   ],
   "source": [
    "clearml_dataset.upload(show_progress=True, verbose=False, output_url=\"s3://192.168.0.51:9000/MLTeam/Dataset/clearml/\", compression=None, chunk_size=None, max_workers=None, retries=3)\n"
   ]
  },
  {
   "cell_type": "code",
   "execution_count": 40,
   "metadata": {},
   "outputs": [
    {
     "name": "stdout",
     "output_type": "stream",
     "text": [
      "2023-08-02 17:24:47,324 - clearml.storage - ERROR - Failed creating storage object s3://192.168.0.51:9000/MLTeam Reason: Missing key and secret for S3 storage access (s3://192.168.0.51:9000/MLTeam)\n"
     ]
    },
    {
     "ename": "ValueError",
     "evalue": "Could not get access credentials for 's3://192.168.0.51:9000/MLTeam/Dataset/clearml/' , check configuration file ~/clearml.conf",
     "output_type": "error",
     "traceback": [
      "\u001b[0;31m---------------------------------------------------------------------------\u001b[0m",
      "\u001b[0;31mValueError\u001b[0m                                Traceback (most recent call last)",
      "Cell \u001b[0;32mIn[40], line 2\u001b[0m\n\u001b[1;32m      1\u001b[0m \u001b[39m# Upload dataset to ClearML server (customizable)\u001b[39;00m\n\u001b[0;32m----> 2\u001b[0m dataset\u001b[39m.\u001b[39;49mupload(show_progress\u001b[39m=\u001b[39;49m\u001b[39mTrue\u001b[39;49;00m, verbose\u001b[39m=\u001b[39;49m\u001b[39mFalse\u001b[39;49;00m, output_url\u001b[39m=\u001b[39;49m\u001b[39m\"\u001b[39;49m\u001b[39ms3://192.168.0.51:9000/MLTeam/Dataset/clearml/\u001b[39;49m\u001b[39m\"\u001b[39;49m, compression\u001b[39m=\u001b[39;49m\u001b[39mNone\u001b[39;49;00m, chunk_size\u001b[39m=\u001b[39;49m\u001b[39mNone\u001b[39;49;00m, max_workers\u001b[39m=\u001b[39;49m\u001b[39mNone\u001b[39;49;00m, retries\u001b[39m=\u001b[39;49m\u001b[39m3\u001b[39;49m)\n\u001b[1;32m      4\u001b[0m \u001b[39m# commit dataset changes\u001b[39;00m\n",
      "File \u001b[0;32m/usr/local/anaconda3/envs/dev/lib/python3.10/site-packages/clearml/datasets/dataset.py:661\u001b[0m, in \u001b[0;36mDataset.upload\u001b[0;34m(self, show_progress, verbose, output_url, compression, chunk_size, max_workers, retries)\u001b[0m\n\u001b[1;32m    659\u001b[0m \u001b[39m# set output_url\u001b[39;00m\n\u001b[1;32m    660\u001b[0m \u001b[39mif\u001b[39;00m output_url:\n\u001b[0;32m--> 661\u001b[0m     \u001b[39mself\u001b[39;49m\u001b[39m.\u001b[39;49m_task\u001b[39m.\u001b[39;49moutput_uri \u001b[39m=\u001b[39m output_url\n\u001b[1;32m    662\u001b[0m     \u001b[39mself\u001b[39m\u001b[39m.\u001b[39m_task\u001b[39m.\u001b[39mget_logger()\u001b[39m.\u001b[39mset_default_upload_destination(output_url)\n\u001b[1;32m    664\u001b[0m \u001b[39mif\u001b[39;00m \u001b[39mnot\u001b[39;00m max_workers:\n",
      "File \u001b[0;32m/usr/local/anaconda3/envs/dev/lib/python3.10/site-packages/clearml/task.py:1093\u001b[0m, in \u001b[0;36mTask.output_uri\u001b[0;34m(self, value)\u001b[0m\n\u001b[1;32m   1091\u001b[0m     helper \u001b[39m=\u001b[39m StorageHelper\u001b[39m.\u001b[39mget(value)\n\u001b[1;32m   1092\u001b[0m     \u001b[39mif\u001b[39;00m \u001b[39mnot\u001b[39;00m helper:\n\u001b[0;32m-> 1093\u001b[0m         \u001b[39mraise\u001b[39;00m \u001b[39mValueError\u001b[39;00m(\u001b[39m\"\u001b[39m\u001b[39mCould not get access credentials for \u001b[39m\u001b[39m'\u001b[39m\u001b[39m{}\u001b[39;00m\u001b[39m'\u001b[39m\u001b[39m \u001b[39m\u001b[39m\"\u001b[39m\n\u001b[1;32m   1094\u001b[0m                          \u001b[39m\"\u001b[39m\u001b[39m, check configuration file ~/clearml.conf\u001b[39m\u001b[39m\"\u001b[39m\u001b[39m.\u001b[39mformat(value))\n\u001b[1;32m   1095\u001b[0m     helper\u001b[39m.\u001b[39mcheck_write_permissions(value)\n\u001b[1;32m   1096\u001b[0m \u001b[39mself\u001b[39m\u001b[39m.\u001b[39mstorage_uri \u001b[39m=\u001b[39m value\n",
      "\u001b[0;31mValueError\u001b[0m: Could not get access credentials for 's3://192.168.0.51:9000/MLTeam/Dataset/clearml/' , check configuration file ~/clearml.conf"
     ]
    }
   ],
   "source": [
    "\n",
    "clearml_dataset.finalize()\n"
   ]
  }
 ],
 "metadata": {
  "kernelspec": {
   "display_name": "dev",
   "language": "python",
   "name": "python3"
  },
  "language_info": {
   "codemirror_mode": {
    "name": "ipython",
    "version": 3
   },
   "file_extension": ".py",
   "mimetype": "text/x-python",
   "name": "python",
   "nbconvert_exporter": "python",
   "pygments_lexer": "ipython3",
   "version": "3.10.12"
  },
  "orig_nbformat": 4
 },
 "nbformat": 4,
 "nbformat_minor": 2
}
