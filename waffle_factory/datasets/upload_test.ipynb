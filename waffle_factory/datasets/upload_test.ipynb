{
 "cells": [
  {
   "cell_type": "code",
   "execution_count": 7,
   "metadata": {},
   "outputs": [],
   "source": [
    "\n",
    "# create example dataset\n",
    "from clearml import StorageManager, Dataset\n"
   ]
  },
  {
   "cell_type": "code",
   "execution_count": null,
   "metadata": {},
   "outputs": [],
   "source": [
    "Storage"
   ]
  },
  {
   "cell_type": "code",
   "execution_count": 4,
   "metadata": {},
   "outputs": [
    {
     "name": "stdout",
     "output_type": "stream",
     "text": [
      "Generating SHA2 hash for 1335 files\n",
      "Hash generation completed\n",
      "2023-08-07 22:34:54,073 - clearml.Task - ERROR - Action failed <400/110: tasks.add_or_update_artifacts/v2.10 (Invalid task status: expected=created, status=completed)> (task=d6ba409bbfe648618b40cb35f26979a0, artifacts=[{'key': 'state', 'type': 'dict', 'uri': 'https://files.clear.ml/Public/.datasets/FireDataset/FireDataset.d6ba409bbfe648618b40cb35f26979a0/artifacts/state/state.json', 'content_size': 551852, 'hash': '64797ece08406a5c380e949c67045aefa714e6d61b9b88f52c701eb43b0a68df', 'timestamp': 1691415293, 'type_data': {'preview': 'Dataset state\\nFiles added/modified: 1335 - total size 271.58 MB\\nCurrent dependency graph: {\\n  \"d6ba409bbfe648618b40cb35f26979a0\": []\\n}\\n', 'content_type': 'application/json'}, 'display_data': [('files removed', '0'), ('files modified', '0'), ('files added', '1335')]}], force=True)\n"
     ]
    },
    {
     "data": {
      "text/plain": [
       "1335"
      ]
     },
     "execution_count": 4,
     "metadata": {},
     "output_type": "execute_result"
    }
   ],
   "source": [
    "\n",
    "\n",
    "# create example dataset\n",
    "from clearml import StorageManager, Dataset\n",
    "\n",
    "\n",
    "# Create a dataset with ClearML`s Dataset class\n",
    "try:\n",
    "    dataset = Dataset.get(\n",
    "        dataset_project='Public',\n",
    "        dataset_name='FireDataset'\n",
    "    )\n",
    "except:\n",
    "    dataset = Dataset.create(\n",
    "        dataset_project=\"Public\", dataset_name=\"FireDataset\"\n",
    "    )\n",
    "# dataset.add_external_files(source_url=\"s3://my_bucket/stuff/file.jpg\", dataset_path=\"/my_dataset/new_folder/\")\n",
    "dataset.add_files(\n",
    "  path=\"/home/ljj/data/Iwest_SmokeDataset_v1.0.0\"\n",
    ")\n"
   ]
  },
  {
   "cell_type": "code",
   "execution_count": 6,
   "metadata": {},
   "outputs": [
    {
     "name": "stdout",
     "output_type": "stream",
     "text": [
      "2023-08-07 22:44:55,913 - clearml.storage - ERROR - Failed creating storage object s3://192.168.0.51:9001/MLTeam Reason: Missing key and secret for S3 storage access (s3://192.168.0.51:9001/MLTeam)\n"
     ]
    },
    {
     "ename": "ValueError",
     "evalue": "Could not get access credentials for 's3://192.168.0.51:9001/MLTeam/Dataset/clearml/' , check configuration file ~/clearml.conf",
     "output_type": "error",
     "traceback": [
      "\u001b[0;31m---------------------------------------------------------------------------\u001b[0m",
      "\u001b[0;31mValueError\u001b[0m                                Traceback (most recent call last)",
      "Cell \u001b[0;32mIn[6], line 1\u001b[0m\n\u001b[0;32m----> 1\u001b[0m dataset\u001b[39m.\u001b[39;49mupload(show_progress\u001b[39m=\u001b[39;49m\u001b[39mTrue\u001b[39;49;00m, verbose\u001b[39m=\u001b[39;49m\u001b[39mFalse\u001b[39;49;00m, output_url\u001b[39m=\u001b[39;49m\u001b[39m\"\u001b[39;49m\u001b[39ms3://192.168.0.51:9001/MLTeam/Dataset/clearml/\u001b[39;49m\u001b[39m\"\u001b[39;49m, compression\u001b[39m=\u001b[39;49m\u001b[39mNone\u001b[39;49;00m, chunk_size\u001b[39m=\u001b[39;49m\u001b[39mNone\u001b[39;49;00m, max_workers\u001b[39m=\u001b[39;49m\u001b[39mNone\u001b[39;49;00m, retries\u001b[39m=\u001b[39;49m\u001b[39m3\u001b[39;49m)\n\u001b[1;32m      2\u001b[0m \u001b[39m# Upload dataset to ClearML server (customizable)\u001b[39;00m\n\u001b[1;32m      3\u001b[0m \n\u001b[1;32m      4\u001b[0m \u001b[39m# commit dataset changes\u001b[39;00m\n",
      "File \u001b[0;32m~/workspace/waffle_factory/.conda/lib/python3.10/site-packages/clearml/datasets/dataset.py:663\u001b[0m, in \u001b[0;36mDataset.upload\u001b[0;34m(self, show_progress, verbose, output_url, compression, chunk_size, max_workers, retries)\u001b[0m\n\u001b[1;32m    661\u001b[0m \u001b[39m# set output_url\u001b[39;00m\n\u001b[1;32m    662\u001b[0m \u001b[39mif\u001b[39;00m output_url:\n\u001b[0;32m--> 663\u001b[0m     \u001b[39mself\u001b[39;49m\u001b[39m.\u001b[39;49m_task\u001b[39m.\u001b[39;49moutput_uri \u001b[39m=\u001b[39m output_url\n\u001b[1;32m    664\u001b[0m     \u001b[39mself\u001b[39m\u001b[39m.\u001b[39m_task\u001b[39m.\u001b[39mget_logger()\u001b[39m.\u001b[39mset_default_upload_destination(output_url)\n\u001b[1;32m    666\u001b[0m \u001b[39mif\u001b[39;00m \u001b[39mnot\u001b[39;00m max_workers:\n",
      "File \u001b[0;32m~/workspace/waffle_factory/.conda/lib/python3.10/site-packages/clearml/task.py:1119\u001b[0m, in \u001b[0;36mTask.output_uri\u001b[0;34m(self, value)\u001b[0m\n\u001b[1;32m   1117\u001b[0m     helper \u001b[39m=\u001b[39m StorageHelper\u001b[39m.\u001b[39mget(value)\n\u001b[1;32m   1118\u001b[0m     \u001b[39mif\u001b[39;00m \u001b[39mnot\u001b[39;00m helper:\n\u001b[0;32m-> 1119\u001b[0m         \u001b[39mraise\u001b[39;00m \u001b[39mValueError\u001b[39;00m(\u001b[39m\"\u001b[39m\u001b[39mCould not get access credentials for \u001b[39m\u001b[39m'\u001b[39m\u001b[39m{}\u001b[39;00m\u001b[39m'\u001b[39m\u001b[39m \u001b[39m\u001b[39m\"\u001b[39m\n\u001b[1;32m   1120\u001b[0m                          \u001b[39m\"\u001b[39m\u001b[39m, check configuration file ~/clearml.conf\u001b[39m\u001b[39m\"\u001b[39m\u001b[39m.\u001b[39mformat(value))\n\u001b[1;32m   1121\u001b[0m     helper\u001b[39m.\u001b[39mcheck_write_permissions(value)\n\u001b[1;32m   1122\u001b[0m \u001b[39mself\u001b[39m\u001b[39m.\u001b[39mstorage_uri \u001b[39m=\u001b[39m value\n",
      "\u001b[0;31mValueError\u001b[0m: Could not get access credentials for 's3://192.168.0.51:9001/MLTeam/Dataset/clearml/' , check configuration file ~/clearml.conf"
     ]
    }
   ],
   "source": [
    "\n",
    "dataset.upload(show_progress=True, verbose=False, output_url=\"s3://192.168.0.51:9001/MLTeam/Dataset/clearml/\", compression=None, chunk_size=None, max_workers=None, retries=3)\n",
    "# Upload dataset to ClearML server (customizable)\n",
    "\n",
    "# commit dataset changes"
   ]
  },
  {
   "cell_type": "code",
   "execution_count": null,
   "metadata": {},
   "outputs": [],
   "source": [
    "\n",
    "dataset.finalize()"
   ]
  }
 ],
 "metadata": {
  "kernelspec": {
   "display_name": "dev",
   "language": "python",
   "name": "python3"
  },
  "language_info": {
   "codemirror_mode": {
    "name": "ipython",
    "version": 3
   },
   "file_extension": ".py",
   "mimetype": "text/x-python",
   "name": "python",
   "nbconvert_exporter": "python",
   "pygments_lexer": "ipython3",
   "version": "3.10.12"
  },
  "orig_nbformat": 4
 },
 "nbformat": 4,
 "nbformat_minor": 2
}
