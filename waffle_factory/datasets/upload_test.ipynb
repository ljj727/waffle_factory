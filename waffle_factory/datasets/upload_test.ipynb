{
 "cells": [
  {
   "cell_type": "code",
   "execution_count": 1,
   "metadata": {},
   "outputs": [],
   "source": [
    "\n",
    "# create example dataset\n",
    "from clearml import StorageManager, Dataset\n"
   ]
  },
  {
   "cell_type": "code",
   "execution_count": 2,
   "metadata": {},
   "outputs": [],
   "source": [
    "\n",
    "\n",
    "# Create a dataset with ClearML`s Dataset class\n",
    "try:\n",
    "    dataset = Dataset.get(\n",
    "        dataset_project='Public',\n",
    "        dataset_name='FireDataset'\n",
    "    )\n",
    "except:\n",
    "    dataset = Dataset.create(\n",
    "        dataset_project=\"Public\", dataset_name=\"FireDataset\"\n",
    "    )"
   ]
  },
  {
   "cell_type": "code",
   "execution_count": 37,
   "metadata": {},
   "outputs": [
    {
     "name": "stdout",
     "output_type": "stream",
     "text": [
      "Generating SHA2 hash for 892 files\n"
     ]
    },
    {
     "name": "stderr",
     "output_type": "stream",
     "text": [
      "100%|██████████| 892/892 [00:00<00:00, 5139.02it/s]\n"
     ]
    },
    {
     "name": "stdout",
     "output_type": "stream",
     "text": [
      "Hash generation completed\n",
      "2023-08-02 17:23:12,776 - clearml.Task - ERROR - Action failed <400/110: tasks.add_or_update_artifacts/v2.10 (Invalid task status: expected=created, status=completed)> (task=d6ba409bbfe648618b40cb35f26979a0, artifacts=[{'key': 'state', 'type': 'dict', 'uri': 'https://files.clear.ml/Public/.datasets/FireDataset/FireDataset.d6ba409bbfe648618b40cb35f26979a0/artifacts/state/state.json', 'content_size': 355783, 'hash': '68f93f1aa748ba9893961ba9ead6c09008a836874924029e54516ecc2c3f4be2', 'timestamp': 1690964592, 'type_data': {'preview': 'Dataset state\\nFiles added/modified: 893 - total size 1.22 MB\\nCurrent dependency graph: {\\n  \"d6ba409bbfe648618b40cb35f26979a0\": []\\n}\\n', 'content_type': 'application/json'}, 'display_data': [('files removed', '0'), ('files added', '894'), ('files modified', '0')]}], force=True)\n"
     ]
    },
    {
     "data": {
      "text/plain": [
       "892"
      ]
     },
     "execution_count": 37,
     "metadata": {},
     "output_type": "execute_result"
    }
   ],
   "source": [
    "dataset.add_external_files(\n",
    "  dataset_path=\"/Users/ijongjin/workspace/dataset/Iwest_SmokeDataset_v1.0.0/info.yaml\"\n",
    ")"
   ]
  },
  {
   "cell_type": "code",
   "execution_count": 40,
   "metadata": {},
   "outputs": [
    {
     "name": "stdout",
     "output_type": "stream",
     "text": [
      "2023-08-02 17:24:47,324 - clearml.storage - ERROR - Failed creating storage object s3://192.168.0.51:9000/MLTeam Reason: Missing key and secret for S3 storage access (s3://192.168.0.51:9000/MLTeam)\n"
     ]
    },
    {
     "ename": "ValueError",
     "evalue": "Could not get access credentials for 's3://192.168.0.51:9000/MLTeam/Dataset/clearml/' , check configuration file ~/clearml.conf",
     "output_type": "error",
     "traceback": [
      "\u001b[0;31m---------------------------------------------------------------------------\u001b[0m",
      "\u001b[0;31mValueError\u001b[0m                                Traceback (most recent call last)",
      "Cell \u001b[0;32mIn[40], line 2\u001b[0m\n\u001b[1;32m      1\u001b[0m \u001b[39m# Upload dataset to ClearML server (customizable)\u001b[39;00m\n\u001b[0;32m----> 2\u001b[0m dataset\u001b[39m.\u001b[39;49mupload(show_progress\u001b[39m=\u001b[39;49m\u001b[39mTrue\u001b[39;49;00m, verbose\u001b[39m=\u001b[39;49m\u001b[39mFalse\u001b[39;49;00m, output_url\u001b[39m=\u001b[39;49m\u001b[39m\"\u001b[39;49m\u001b[39ms3://192.168.0.51:9000/MLTeam/Dataset/clearml/\u001b[39;49m\u001b[39m\"\u001b[39;49m, compression\u001b[39m=\u001b[39;49m\u001b[39mNone\u001b[39;49;00m, chunk_size\u001b[39m=\u001b[39;49m\u001b[39mNone\u001b[39;49;00m, max_workers\u001b[39m=\u001b[39;49m\u001b[39mNone\u001b[39;49;00m, retries\u001b[39m=\u001b[39;49m\u001b[39m3\u001b[39;49m)\n\u001b[1;32m      4\u001b[0m \u001b[39m# commit dataset changes\u001b[39;00m\n",
      "File \u001b[0;32m/usr/local/anaconda3/envs/dev/lib/python3.10/site-packages/clearml/datasets/dataset.py:661\u001b[0m, in \u001b[0;36mDataset.upload\u001b[0;34m(self, show_progress, verbose, output_url, compression, chunk_size, max_workers, retries)\u001b[0m\n\u001b[1;32m    659\u001b[0m \u001b[39m# set output_url\u001b[39;00m\n\u001b[1;32m    660\u001b[0m \u001b[39mif\u001b[39;00m output_url:\n\u001b[0;32m--> 661\u001b[0m     \u001b[39mself\u001b[39;49m\u001b[39m.\u001b[39;49m_task\u001b[39m.\u001b[39;49moutput_uri \u001b[39m=\u001b[39m output_url\n\u001b[1;32m    662\u001b[0m     \u001b[39mself\u001b[39m\u001b[39m.\u001b[39m_task\u001b[39m.\u001b[39mget_logger()\u001b[39m.\u001b[39mset_default_upload_destination(output_url)\n\u001b[1;32m    664\u001b[0m \u001b[39mif\u001b[39;00m \u001b[39mnot\u001b[39;00m max_workers:\n",
      "File \u001b[0;32m/usr/local/anaconda3/envs/dev/lib/python3.10/site-packages/clearml/task.py:1093\u001b[0m, in \u001b[0;36mTask.output_uri\u001b[0;34m(self, value)\u001b[0m\n\u001b[1;32m   1091\u001b[0m     helper \u001b[39m=\u001b[39m StorageHelper\u001b[39m.\u001b[39mget(value)\n\u001b[1;32m   1092\u001b[0m     \u001b[39mif\u001b[39;00m \u001b[39mnot\u001b[39;00m helper:\n\u001b[0;32m-> 1093\u001b[0m         \u001b[39mraise\u001b[39;00m \u001b[39mValueError\u001b[39;00m(\u001b[39m\"\u001b[39m\u001b[39mCould not get access credentials for \u001b[39m\u001b[39m'\u001b[39m\u001b[39m{}\u001b[39;00m\u001b[39m'\u001b[39m\u001b[39m \u001b[39m\u001b[39m\"\u001b[39m\n\u001b[1;32m   1094\u001b[0m                          \u001b[39m\"\u001b[39m\u001b[39m, check configuration file ~/clearml.conf\u001b[39m\u001b[39m\"\u001b[39m\u001b[39m.\u001b[39mformat(value))\n\u001b[1;32m   1095\u001b[0m     helper\u001b[39m.\u001b[39mcheck_write_permissions(value)\n\u001b[1;32m   1096\u001b[0m \u001b[39mself\u001b[39m\u001b[39m.\u001b[39mstorage_uri \u001b[39m=\u001b[39m value\n",
      "\u001b[0;31mValueError\u001b[0m: Could not get access credentials for 's3://192.168.0.51:9000/MLTeam/Dataset/clearml/' , check configuration file ~/clearml.conf"
     ]
    }
   ],
   "source": [
    "\n",
    "# Upload dataset to ClearML server (customizable)\n",
    "dataset.upload(show_progress=True, verbose=False, output_url=\"s3://192.168.0.51:9000/MLTeam/Dataset/clearml/\", compression=None, chunk_size=None, max_workers=None, retries=3)\n",
    "\n",
    "# commit dataset changes"
   ]
  },
  {
   "cell_type": "code",
   "execution_count": null,
   "metadata": {},
   "outputs": [],
   "source": [
    "\n",
    "dataset.finalize()"
   ]
  }
 ],
 "metadata": {
  "kernelspec": {
   "display_name": "dev",
   "language": "python",
   "name": "python3"
  },
  "language_info": {
   "codemirror_mode": {
    "name": "ipython",
    "version": 3
   },
   "file_extension": ".py",
   "mimetype": "text/x-python",
   "name": "python",
   "nbconvert_exporter": "python",
   "pygments_lexer": "ipython3",
   "version": "3.10.12"
  },
  "orig_nbformat": 4
 },
 "nbformat": 4,
 "nbformat_minor": 2
}
